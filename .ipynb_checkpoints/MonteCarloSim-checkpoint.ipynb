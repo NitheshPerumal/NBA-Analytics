{
 "cells": [
  {
   "cell_type": "markdown",
   "metadata": {},
   "source": [
    "# Monte Carlo simulation for NBA games"
   ]
  },
  {
   "cell_type": "code",
   "execution_count": 3,
   "metadata": {},
   "outputs": [],
   "source": [
    "#Data comes from URL https://www.basketball-reference.com/teams/MIA/2020_games.html"
   ]
  },
  {
   "cell_type": "markdown",
   "metadata": {},
   "source": [
    "## Imports"
   ]
  },
  {
   "cell_type": "code",
   "execution_count": 12,
   "metadata": {},
   "outputs": [],
   "source": [
    "import pandas as pd\n",
    "import numpy as np\n",
    "import random as rd"
   ]
  },
  {
   "cell_type": "markdown",
   "metadata": {},
   "source": [
    "## Uploading data to dataframe and naming based on team"
   ]
  },
  {
   "cell_type": "code",
   "execution_count": 5,
   "metadata": {},
   "outputs": [],
   "source": [
    "MH = pd.read_csv('Miami20_stats.csv')\n",
    "MH.name = 'Miami'\n",
    "BC = pd.read_csv('Boston20_stats.csv')\n",
    "BC.name = 'Boston'"
   ]
  },
  {
   "cell_type": "markdown",
   "metadata": {},
   "source": [
    "## Function to scale Pts scored and Pts given up for the specific matchup\n",
    "Since sports are matchup based gives a higher weight for the specific matchup when making the gaussian"
   ]
  },
  {
   "cell_type": "code",
   "execution_count": 6,
   "metadata": {},
   "outputs": [],
   "source": [
    "def adj_Value(df, name):\n",
    "    for i in range(len(df)):\n",
    "        var = df['Opponent'][i] == name\n",
    "    \n",
    "        if var == True:\n",
    "            df['Tm'][i] = df['Tm'][i]*2\n",
    "            df['Opp'][i] = df['Opp'][i]*2\n",
    "    return df.sort_values(by = 'Tm')"
   ]
  },
  {
   "cell_type": "code",
   "execution_count": 7,
   "metadata": {},
   "outputs": [],
   "source": [
    "#Finds index of opposing team to apply the value adjusting for matchup\n",
    "def matchup_adj(T1,T2):\n",
    "    T1_name = list(set(T2['Opponent']).difference(T1['Opponent']))\n",
    "    T2_name = list(set(T1['Opponent']).difference(T2['Opponent']))\n",
    "    \n",
    "    T1_adj = adj_Value(T1, T2_name)\n",
    "    T2_adj = adj_Value(T2, T1_name)\n",
    "    \n",
    "    return(T1_adj, T2_adj)"
   ]
  },
  {
   "cell_type": "markdown",
   "metadata": {},
   "source": [
    "## Monte Carlo Simulation\n",
    "Simulates each 'game' and returns 1,-1,0 based on Win, Loss, Tie\n",
    "\n",
    "A guassian is made using the pts scored by team one and the pts given by the other team"
   ]
  },
  {
   "cell_type": "code",
   "execution_count": 8,
   "metadata": {},
   "outputs": [],
   "source": [
    "def GameSim(T1,T2):\n",
    "    T1, T2 = matchup_adj(T1,T2)\n",
    "    \n",
    "    T1_adjusted = T1.drop(T1.columns[[0,1,2,3,4,5,6,7,10,11,12]], axis=1)\n",
    "    T1_mean = np.mean(T1_adjusted)\n",
    "    T1_std = np.mean(T1_adjusted)\n",
    "    \n",
    "    T2_adjusted = T2.drop(T2.columns[[0,1,2,3,4,5,6,7,10,11,12]], axis=1)\n",
    "    T2_mean = np.mean(T2_adjusted)\n",
    "    T2_std = np.mean(T2_adjusted)\n",
    "    \n",
    "    T1_gauss = (rd.gauss(T1_mean[0],T1_std[0]) + rd.gauss(T2_mean[1],T2_std[1]))/2\n",
    "    T2_gauss = (rd.gauss(T2_mean[0],T2_std[0]) + rd.gauss(T1_mean[1],T1_std[1]))/2\n",
    "    \n",
    "    if int(round(T1_gauss)) > int(round(T2_gauss)):\n",
    "        return 1\n",
    "    elif int(round(T1_gauss)) < int(round(T2_gauss)):\n",
    "        return -1\n",
    "    else:\n",
    "        return 0"
   ]
  },
  {
   "cell_type": "markdown",
   "metadata": {},
   "source": [
    "Runs the simulation and documents results from random sampling gaussian for N number of games between Teams 1 and 2"
   ]
  },
  {
   "cell_type": "code",
   "execution_count": 10,
   "metadata": {},
   "outputs": [],
   "source": [
    "def Simulation(T1,T2,N):\n",
    "    results = []\n",
    "    T1_win = 0\n",
    "    T2_win = 0\n",
    "    tie = 0\n",
    "    \n",
    "    for i in range(N):\n",
    "        g = GameSim(T1,T2)\n",
    "        results.append(g)\n",
    "        \n",
    "        if g == 1: \n",
    "            T1_win +=1\n",
    "        elif g == -1:\n",
    "            T2_win +=1\n",
    "        else: \n",
    "            tie +=1\n",
    "    \n",
    "    print(T1.name + ' Win', T1_win/(T1_win+T2_win+tie),'%')\n",
    "    print(T2.name + ' Win', T2_win/(T1_win+T2_win+tie),'%')\n",
    "    print('Tie', tie/(T1_win+T2_win+tie),'%')"
   ]
  },
  {
   "cell_type": "code",
   "execution_count": 16,
   "metadata": {},
   "outputs": [
    {
     "name": "stdout",
     "output_type": "stream",
     "text": [
      "Miami Win 0.4995 %\n",
      "Boston Win 0.4961 %\n",
      "Tie 0.0044 %\n"
     ]
    }
   ],
   "source": [
    "Simulation(MH,BC,10000)"
   ]
  },
  {
   "cell_type": "code",
   "execution_count": null,
   "metadata": {},
   "outputs": [],
   "source": []
  }
 ],
 "metadata": {
  "kernelspec": {
   "display_name": "Python 3",
   "language": "python",
   "name": "python3"
  },
  "language_info": {
   "codemirror_mode": {
    "name": "ipython",
    "version": 3
   },
   "file_extension": ".py",
   "mimetype": "text/x-python",
   "name": "python",
   "nbconvert_exporter": "python",
   "pygments_lexer": "ipython3",
   "version": "3.8.3"
  }
 },
 "nbformat": 4,
 "nbformat_minor": 4
}
