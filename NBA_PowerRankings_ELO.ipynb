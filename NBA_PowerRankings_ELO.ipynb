{
 "cells": [
  {
   "cell_type": "markdown",
   "metadata": {},
   "source": [
    "# Basketball Analysis"
   ]
  },
  {
   "cell_type": "markdown",
   "metadata": {},
   "source": [
    "## Mathematical Power Ranking using Chess ELO\n",
    "ELO is used to correct for opponent strength (a win versus someone better than you is more meaningful than one against someone worse than you skill wise)\n",
    "\n",
    "Basketball Power Ranking skewed because Western Conference much stronger than East (teams play other teams in their own conference 4 times and opposite conference teams 2 times) which makes Win-Loss inadequate to determine how to rank the entire NBA"
   ]
  },
  {
   "cell_type": "markdown",
   "metadata": {},
   "source": [
    "### Import Libraries"
   ]
  },
  {
   "cell_type": "code",
   "execution_count": 3,
   "metadata": {},
   "outputs": [],
   "source": [
    "import requests\n",
    "from bs4 import BeautifulSoup\n",
    "import pandas as pd"
   ]
  },
  {
   "cell_type": "markdown",
   "metadata": {},
   "source": [
    "### Importing ELO file"
   ]
  },
  {
   "cell_type": "code",
   "execution_count": 2,
   "metadata": {},
   "outputs": [],
   "source": [
    "#At the beginning of the season every team starts at 1000 ELO winning increases ones ELO while losing decreases\n",
    "#Importing file that starts with every team having 1000 ELO and updated values as season progresses\n",
    "ELO = pd.read_table('~/Downloads/ELO.txt', sep = \"\\t\")"
   ]
  },
  {
   "cell_type": "markdown",
   "metadata": {},
   "source": [
    "### Previous Nights BoxScores from Basketball Reference"
   ]
  },
  {
   "cell_type": "code",
   "execution_count": 15,
   "metadata": {},
   "outputs": [],
   "source": [
    "URL = 'https://www.basketball-reference.com/boxscores/'"
   ]
  },
  {
   "cell_type": "markdown",
   "metadata": {},
   "source": [
    "### ELO updating function "
   ]
  },
  {
   "cell_type": "code",
   "execution_count": 16,
   "metadata": {},
   "outputs": [],
   "source": [
    "def ELO_pergame(URL):\n",
    "    page = requests.get(URL)\n",
    "\n",
    "    soup = BeautifulSoup(page.content, 'html.parser')\n",
    "    results = soup.find(id = 'content')\n",
    "\n",
    "    Game_sum = results.find('div', class_ = 'game_summaries')\n",
    "    Game_sum = Game_sum.find_all('div', class_ = 'game_summary expanded nohover') #Finds number of games on a given day\n",
    "    \n",
    "\n",
    "    for i in range(len(Game_sum)):\n",
    "        \n",
    "        #Updating ELO for the team that won\n",
    "        Game = Game_sum[i]\n",
    "        Winner = Game.find('tr', class_= 'winner')\n",
    "        Winner = Winner.find('a').text\n",
    "        Winner_ind = ELO[ELO['Team']==Winner].index.tolist()\n",
    "            \n",
    "        #Updating ELO for the team that lost    \n",
    "        Loser = Game.find('tr', class_= 'loser')\n",
    "        Loser = Loser.find('a').text\n",
    "        Loser_ind = ELO[ELO['Team']==Loser].index.tolist()\n",
    "        \n",
    "        #Calculates the Probability of each team winning going into the match\n",
    "        Prob_Winner = 1/(1 + 10**((float(ELO['ELO'][Loser_ind]) - float(ELO['ELO'][Winner_ind]))/400))\n",
    "        Prob_Loser = 1/(1 + 10**((float(ELO['ELO'][Winner_ind]) - float(ELO['ELO'][Loser_ind]))/400))\n",
    "\n",
    "        #New ELO\n",
    "        ELO.at[Winner_ind, 'ELO'] = float(ELO['ELO'][Winner_ind]) + 100*(1.0 - Prob_Winner)\n",
    "        ELO.at[Loser_ind, 'ELO'] = float(ELO['ELO'][Loser_ind]) + 100*(0.0 - Prob_Loser)"
   ]
  },
  {
   "cell_type": "code",
   "execution_count": 17,
   "metadata": {},
   "outputs": [],
   "source": [
    "ELO_pergame(URL)"
   ]
  },
  {
   "cell_type": "code",
   "execution_count": null,
   "metadata": {},
   "outputs": [],
   "source": []
  }
 ],
 "metadata": {
  "kernelspec": {
   "display_name": "Python 3",
   "language": "python",
   "name": "python3"
  },
  "language_info": {
   "codemirror_mode": {
    "name": "ipython",
    "version": 3
   },
   "file_extension": ".py",
   "mimetype": "text/x-python",
   "name": "python",
   "nbconvert_exporter": "python",
   "pygments_lexer": "ipython3",
   "version": "3.8.3"
  }
 },
 "nbformat": 4,
 "nbformat_minor": 4
}
