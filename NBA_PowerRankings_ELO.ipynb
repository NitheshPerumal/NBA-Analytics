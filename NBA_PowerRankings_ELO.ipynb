{
 "cells": [
  {
   "cell_type": "markdown",
   "metadata": {},
   "source": [
    "# Basketball Analysis"
   ]
  },
  {
   "cell_type": "markdown",
   "metadata": {},
   "source": [
    "## Mathematical Power Ranking using Chess ELO\n",
    "ELO is used to correct for opponent strength (a win versus someone better than you is more meaningful than one against someone worse than you skill wise)\n",
    "\n",
    "Basketball Power Ranking skewed because Western Conference much stronger than East (teams play other teams in their own conference 4 times and opposite conference teams 2 times) which makes Win-Loss inadequate to determine how to rank the entire NBA"
   ]
  },
  {
   "cell_type": "markdown",
   "metadata": {},
   "source": [
    "### Import Libraries"
   ]
  },
  {
   "cell_type": "code",
   "execution_count": 3,
   "metadata": {},
   "outputs": [],
   "source": [
    "import requests\n",
    "from bs4 import BeautifulSoup\n",
    "import pandas as pd\n",
    "import numpy as np\n",
    "import random as rd\n",
    "import matplotlib.pyplot as plt"
   ]
  },
  {
   "cell_type": "markdown",
   "metadata": {},
   "source": [
    "### Importing ELO file"
   ]
  },
  {
   "cell_type": "code",
   "execution_count": 25,
   "metadata": {},
   "outputs": [],
   "source": [
    "#At the beginning of the season every team starts at 1000 ELO winning increases ones ELO while losing decreases\n",
    "#Importing file that starts with every team having 1000 ELO and updated values as season progresses\n",
    "ELO = pd.read_csv('ELO.csv')"
   ]
  },
  {
   "cell_type": "markdown",
   "metadata": {},
   "source": [
    "### Previous Nights BoxScores from Basketball Reference"
   ]
  },
  {
   "cell_type": "code",
   "execution_count": 26,
   "metadata": {},
   "outputs": [],
   "source": [
    "NBA_URL = 'https://www.basketball-reference.com/boxscores/'"
   ]
  },
  {
   "cell_type": "markdown",
   "metadata": {},
   "source": [
    "### ELO updating function "
   ]
  },
  {
   "cell_type": "code",
   "execution_count": 27,
   "metadata": {},
   "outputs": [],
   "source": [
    "def ELO_pergame(URL):\n",
    "    page = requests.get(URL)\n",
    "\n",
    "    soup = BeautifulSoup(page.content, 'html.parser')\n",
    "    results = soup.find(id = 'content')\n",
    "\n",
    "    Game_sum = results.find('div', class_ = 'game_summaries')\n",
    "    Game_sum = Game_sum.find_all('div', class_ = 'game_summary expanded nohover') #Finds number of games on a given day\n",
    "    \n",
    "\n",
    "    for i in range(len(Game_sum)):\n",
    "        \n",
    "        #Updating ELO for the team that won\n",
    "        Game = Game_sum[i]\n",
    "        Winner = Game.find('tr', class_= 'winner')\n",
    "        Winner = Winner.find('a').text\n",
    "        Winner_ind = ELO[ELO['Team']==Winner].index.tolist()\n",
    "            \n",
    "        #Updating ELO for the team that lost    \n",
    "        Loser = Game.find('tr', class_= 'loser')\n",
    "        Loser = Loser.find('a').text\n",
    "        Loser_ind = ELO[ELO['Team']==Loser].index.tolist()\n",
    "        \n",
    "        #Calculates the Probability of each team winning based on ELO before the game\n",
    "        Prob_Winner = 1/(1 + 10**((float(ELO['ELO'][Loser_ind]) - float(ELO['ELO'][Winner_ind]))/400))\n",
    "        Prob_Loser = 1/(1 + 10**((float(ELO['ELO'][Winner_ind]) - float(ELO['ELO'][Loser_ind]))/400))\n",
    "\n",
    "        #New ELO\n",
    "        ELO.at[Winner_ind, 'ELO'] = float(ELO['ELO'][Winner_ind]) + 100*(1.0 - Prob_Winner)\n",
    "        ELO.at[Loser_ind, 'ELO'] = float(ELO['ELO'][Loser_ind]) + 100*(0.0 - Prob_Loser)"
   ]
  },
  {
   "cell_type": "code",
   "execution_count": 40,
   "metadata": {},
   "outputs": [],
   "source": [
    "ELO_pergame(NBA_URL)\n",
    "ELO.to_csv('ELO.csv', index = False)"
   ]
  },
  {
   "cell_type": "code",
   "execution_count": 43,
   "metadata": {},
   "outputs": [
    {
     "data": {
      "image/png": "[encoded data removed]",
      "text/plain": [
       "<Figure size 432x288 with 1 Axes>"
      ]
     },
     "metadata": {
      "needs_background": "light"
     },
     "output_type": "display_data"
    }
   ],
   "source": [
    "fig = plt.figure()\n",
    "ax = fig.add_axes([0,0,1,1])\n",
    "ax.bar(ELO['Team'], ELO['ELO'])\n",
    "plt.xticks(rotation = 90)\n",
    "plt.show()"
   ]
  }
 ],
 "metadata": {
  "kernelspec": {
   "display_name": "Python 3",
   "language": "python",
   "name": "python3"
  },
  "language_info": {
   "codemirror_mode": {
    "name": "ipython",
    "version": 3
   },
   "file_extension": ".py",
   "mimetype": "text/x-python",
   "name": "python",
   "nbconvert_exporter": "python",
   "pygments_lexer": "ipython3",
   "version": "3.8.3"
  }
 },
 "nbformat": 4,
 "nbformat_minor": 4
}
